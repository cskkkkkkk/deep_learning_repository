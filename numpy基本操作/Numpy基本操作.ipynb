{
 "cells": [
  {
   "cell_type": "markdown",
   "id": "df9894bc",
   "metadata": {},
   "source": [
    "1.导入 numpy 库"
   ]
  },
  {
   "cell_type": "code",
   "execution_count": 76,
   "id": "50ec92f6",
   "metadata": {},
   "outputs": [],
   "source": [
    "import numpy as np"
   ]
  },
  {
   "cell_type": "markdown",
   "id": "dc116184",
   "metadata": {},
   "source": [
    "2.建立一个一维数组 a，初始化为[4,5,6]"
   ]
  },
  {
   "cell_type": "code",
   "execution_count": 77,
   "id": "617c8cb4",
   "metadata": {},
   "outputs": [],
   "source": [
    "a=numpy.array([4,5,6])"
   ]
  },
  {
   "cell_type": "markdown",
   "id": "eecc5a8d",
   "metadata": {},
   "source": [
    "(1)输出 a 的类型（type）"
   ]
  },
  {
   "cell_type": "code",
   "execution_count": 78,
   "id": "77a5d323",
   "metadata": {},
   "outputs": [
    {
     "data": {
      "text/plain": [
       "numpy.ndarray"
      ]
     },
     "execution_count": 78,
     "metadata": {},
     "output_type": "execute_result"
    }
   ],
   "source": [
    "type(a)"
   ]
  },
  {
   "cell_type": "markdown",
   "id": "1fc692c0",
   "metadata": {},
   "source": [
    "(2)输出 a 的各维度大小（shape）"
   ]
  },
  {
   "cell_type": "code",
   "execution_count": 79,
   "id": "1105b0c6",
   "metadata": {},
   "outputs": [
    {
     "data": {
      "text/plain": [
       "(3,)"
      ]
     },
     "execution_count": 79,
     "metadata": {},
     "output_type": "execute_result"
    }
   ],
   "source": [
    "a.shape"
   ]
  },
  {
   "cell_type": "markdown",
   "id": "03c67ee6",
   "metadata": {},
   "source": [
    "(3)输出 a 的第一个元素"
   ]
  },
  {
   "cell_type": "code",
   "execution_count": 80,
   "id": "f6c43eb1",
   "metadata": {},
   "outputs": [
    {
     "data": {
      "text/plain": [
       "4"
      ]
     },
     "execution_count": 80,
     "metadata": {},
     "output_type": "execute_result"
    }
   ],
   "source": [
    "a[0]"
   ]
  },
  {
   "cell_type": "markdown",
   "id": "b2ea04f2",
   "metadata": {},
   "source": [
    "3、建立一个二维数组 b，初始化为[[4,5,6],[1,2,3]]"
   ]
  },
  {
   "cell_type": "code",
   "execution_count": 81,
   "id": "3a6c8e78",
   "metadata": {},
   "outputs": [],
   "source": [
    "b=np.array([[4,5,6],[1,2,3]])"
   ]
  },
  {
   "cell_type": "markdown",
   "id": "54e71197",
   "metadata": {},
   "source": [
    "(1) 输出 b 的各维度大小（shape）"
   ]
  },
  {
   "cell_type": "code",
   "execution_count": 82,
   "id": "9253b288",
   "metadata": {},
   "outputs": [
    {
     "data": {
      "text/plain": [
       "(2, 3)"
      ]
     },
     "execution_count": 82,
     "metadata": {},
     "output_type": "execute_result"
    }
   ],
   "source": [
    "b.shape"
   ]
  },
  {
   "cell_type": "markdown",
   "id": "a3a15923",
   "metadata": {},
   "source": [
    "(2) 输出b[0,0], b[0,1], b[1,1]这三个元素"
   ]
  },
  {
   "cell_type": "code",
   "execution_count": 83,
   "id": "82b99f43",
   "metadata": {},
   "outputs": [
    {
     "data": {
      "text/plain": [
       "(4, 5, 2)"
      ]
     },
     "execution_count": 83,
     "metadata": {},
     "output_type": "execute_result"
    }
   ],
   "source": [
    "b[0,0],b[0,1],b[1,1]"
   ]
  },
  {
   "cell_type": "markdown",
   "id": "4c3db41e",
   "metadata": {},
   "source": [
    "4、建立矩阵"
   ]
  },
  {
   "cell_type": "markdown",
   "id": "df6d27c1",
   "metadata": {},
   "source": [
    "(1) 建立一个大小为3 × 3的全 0 矩阵 c"
   ]
  },
  {
   "cell_type": "code",
   "execution_count": 84,
   "id": "bcc5a3fe",
   "metadata": {},
   "outputs": [],
   "source": [
    "c=np.zeros([3,3])"
   ]
  },
  {
   "cell_type": "markdown",
   "id": "ce39f32a",
   "metadata": {},
   "source": [
    "(2) 建立一个大小为4 × 5的全 1 矩阵 d"
   ]
  },
  {
   "cell_type": "code",
   "execution_count": 85,
   "id": "1a6cd554",
   "metadata": {},
   "outputs": [],
   "source": [
    "d=np.ones([4,5])"
   ]
  },
  {
   "cell_type": "markdown",
   "id": "6a18ae85",
   "metadata": {},
   "source": [
    "(3) 建立一个大小为4 × 4的单位矩阵 e"
   ]
  },
  {
   "cell_type": "code",
   "execution_count": 86,
   "id": "a3405f68",
   "metadata": {},
   "outputs": [],
   "source": [
    "e = np.eye(4)"
   ]
  },
  {
   "cell_type": "markdown",
   "id": "280317a7",
   "metadata": {},
   "source": [
    "5、建立一个数组 f，初始化为[0,1,2,3,4,5,6,7,8,9,10,11]（arange）"
   ]
  },
  {
   "cell_type": "code",
   "execution_count": 87,
   "id": "bb9e9c3d",
   "metadata": {},
   "outputs": [],
   "source": [
    "f=np.arange(12)"
   ]
  },
  {
   "cell_type": "markdown",
   "id": "9f61f210",
   "metadata": {},
   "source": [
    "(1) 输出 f 以及 f 的各维度大小"
   ]
  },
  {
   "cell_type": "code",
   "execution_count": 88,
   "id": "c8dedba4",
   "metadata": {},
   "outputs": [
    {
     "data": {
      "text/plain": [
       "(array([ 0,  1,  2,  3,  4,  5,  6,  7,  8,  9, 10, 11]), (12,))"
      ]
     },
     "execution_count": 88,
     "metadata": {},
     "output_type": "execute_result"
    }
   ],
   "source": [
    "f,f.shape"
   ]
  },
  {
   "cell_type": "markdown",
   "id": "66b26ffe",
   "metadata": {},
   "source": [
    "(2) 将 f 的 shape 改为3 × 4（reshape）"
   ]
  },
  {
   "cell_type": "code",
   "execution_count": 89,
   "id": "a27b49a5",
   "metadata": {},
   "outputs": [],
   "source": [
    "f=f.reshape([3,4])"
   ]
  },
  {
   "cell_type": "markdown",
   "id": "33ea1b4e",
   "metadata": {},
   "source": [
    "(3) 输出 f 以及 f 的各维度大小"
   ]
  },
  {
   "cell_type": "code",
   "execution_count": 90,
   "id": "573f4d1e",
   "metadata": {},
   "outputs": [
    {
     "data": {
      "text/plain": [
       "(array([[ 0,  1,  2,  3],\n",
       "        [ 4,  5,  6,  7],\n",
       "        [ 8,  9, 10, 11]]),\n",
       " (3, 4))"
      ]
     },
     "execution_count": 90,
     "metadata": {},
     "output_type": "execute_result"
    }
   ],
   "source": [
    "f,f.shape"
   ]
  },
  {
   "cell_type": "markdown",
   "id": "4c864aab",
   "metadata": {},
   "source": [
    "(4) 输出 f 第二行（f[1, ∶]）"
   ]
  },
  {
   "cell_type": "code",
   "execution_count": 91,
   "id": "cbb8f200",
   "metadata": {},
   "outputs": [
    {
     "data": {
      "text/plain": [
       "array([4, 5, 6, 7])"
      ]
     },
     "execution_count": 91,
     "metadata": {},
     "output_type": "execute_result"
    }
   ],
   "source": [
    "f[1,:]"
   ]
  },
  {
   "cell_type": "markdown",
   "id": "7bf9ce36",
   "metadata": {},
   "source": [
    "(5) 输出 f 最后两列（f[: ,2:]）"
   ]
  },
  {
   "cell_type": "code",
   "execution_count": 92,
   "id": "d4b712f0",
   "metadata": {},
   "outputs": [
    {
     "data": {
      "text/plain": [
       "array([[ 2,  3],\n",
       "       [ 6,  7],\n",
       "       [10, 11]])"
      ]
     },
     "execution_count": 92,
     "metadata": {},
     "output_type": "execute_result"
    }
   ],
   "source": [
    "f[:,2:]"
   ]
  },
  {
   "cell_type": "markdown",
   "id": "cba2a837",
   "metadata": {},
   "source": [
    "(6) 输出 f 第三行最后一个元素（使用-1 表示最后一个元素）"
   ]
  },
  {
   "cell_type": "code",
   "execution_count": 93,
   "id": "e395f7bf",
   "metadata": {},
   "outputs": [
    {
     "data": {
      "text/plain": [
       "11"
      ]
     },
     "execution_count": 93,
     "metadata": {},
     "output_type": "execute_result"
    }
   ],
   "source": [
    "f[2,-1]"
   ]
  }
 ],
 "metadata": {
  "kernelspec": {
   "display_name": "Python 3 (ipykernel)",
   "language": "python",
   "name": "python3"
  },
  "language_info": {
   "codemirror_mode": {
    "name": "ipython",
    "version": 3
   },
   "file_extension": ".py",
   "mimetype": "text/x-python",
   "name": "python",
   "nbconvert_exporter": "python",
   "pygments_lexer": "ipython3",
   "version": "3.11.3"
  }
 },
 "nbformat": 4,
 "nbformat_minor": 5
}
